{
 "cells": [
  {
   "cell_type": "code",
   "execution_count": 1,
   "metadata": {},
   "outputs": [
    {
     "data": {
      "text/plain": [
       "array([[11.923914 ,  2.0409207]], dtype=float32)"
      ]
     },
     "execution_count": 1,
     "metadata": {},
     "output_type": "execute_result"
    }
   ],
   "source": [
    "# Example of how to use trained model to make predictions on new data.\n",
    "# Author: Peter Sadowski, Dec 2020\n",
    "import numpy as np\n",
    "import tensorflow as tf\n",
    "from tensorflow.keras.models import load_model\n",
    "import sys\n",
    "sys.path = ['../'] + sys.path\n",
    "from sarhs.generator import SARGenerator\n",
    "from sarhs.heteroskedastic import Gaussian_NLL, Gaussian_MSE\n",
    "\n",
    "file_model = '../models/heteroskedastic_2017.h5'\n",
    "custom_objects = {'Gaussian_NLL':Gaussian_NLL, 'Gaussian_MSE':Gaussian_MSE}\n",
    "model = load_model(file_model, custom_objects=custom_objects)\n",
    "\n",
    "#filename = '/mnt/tmp/psadow/sar/sar_hs.h5'\n",
    "filename = '../../data/S1B_201905_test01S/S1B_201905_test01S_processed.h5'\n",
    "test = SARGenerator(filename=filename, \n",
    "                     subgroups=None, \n",
    "                     batch_size=1)\n",
    "\n",
    "# Returns Nx2 array where column 1 is predicted Hs (in meters), \n",
    "# and column 2 is predicted stdev of prediction.\n",
    "model.predict(test)"
   ]
  }
 ],
 "metadata": {
  "kernelspec": {
   "display_name": "Python [conda env:t2] *",
   "language": "python",
   "name": "conda-env-t2-py"
  },
  "language_info": {
   "codemirror_mode": {
    "name": "ipython",
    "version": 3
   },
   "file_extension": ".py",
   "mimetype": "text/x-python",
   "name": "python",
   "nbconvert_exporter": "python",
   "pygments_lexer": "ipython3",
   "version": "3.8.3"
  }
 },
 "nbformat": 4,
 "nbformat_minor": 4
}
