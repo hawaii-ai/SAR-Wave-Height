{
 "cells": [
  {
   "cell_type": "code",
   "execution_count": 1,
   "metadata": {},
   "outputs": [],
   "source": [
    "# Example of how to use trained model to make predictions on new data.\n",
    "# Author: Peter Sadowski, Dec 2020\n",
    "import numpy as np\n",
    "import tensorflow as tf\n",
    "from tensorflow.keras.models import load_model\n",
    "import sys\n",
    "sys.path = ['../'] + sys.path\n",
    "from sarhs.generator import SARGenerator"
   ]
  },
  {
   "cell_type": "code",
   "execution_count": 15,
   "metadata": {},
   "outputs": [],
   "source": [
    "file_model = './model.h5'\n",
    "model = load_model(file_model)"
   ]
  },
  {
   "cell_type": "code",
   "execution_count": 3,
   "metadata": {},
   "outputs": [],
   "source": [
    "#filename = '/mnt/tmp/psadow/sar/sar_hs.h5'\n",
    "filename = '../../data/S1B_201905_test01S/S1B_201905_test01S_processed.h5'\n",
    "test = SARGenerator(filename=filename, \n",
    "                     subgroups=None, \n",
    "                     batch_size=1)\n",
    "\n",
    "model.predict(test)"
   ]
  }
 ],
 "metadata": {
  "kernelspec": {
   "display_name": "Python [conda env:t2] *",
   "language": "python",
   "name": "conda-env-t2-py"
  },
  "language_info": {
   "codemirror_mode": {
    "name": "ipython",
    "version": 3
   },
   "file_extension": ".py",
   "mimetype": "text/x-python",
   "name": "python",
   "nbconvert_exporter": "python",
   "pygments_lexer": "ipython3",
   "version": "3.8.3"
  }
 },
 "nbformat": 4,
 "nbformat_minor": 4
}
