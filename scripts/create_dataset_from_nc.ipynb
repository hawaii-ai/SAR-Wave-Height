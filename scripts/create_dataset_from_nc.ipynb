{
 "cells": [
  {
   "cell_type": "code",
   "execution_count": 9,
   "metadata": {},
   "outputs": [
    {
     "name": "stdout",
     "output_type": "stream",
     "text": [
      "Found 1 events.\n"
     ]
    }
   ],
   "source": [
    "# Reads NetCDF4 file, preprocesses data, and writes hdf5 file.\n",
    "# This is much simpler than aggregating multiple files, then\n",
    "# performing preprocessing.\n",
    "# Author: Peter Sadowski, Dec 2020\n",
    "import os, sys, h5py\n",
    "import numpy as np\n",
    "from netCDF4 import Dataset\n",
    "sys.path = ['../'] + sys.path\n",
    "from sarhs import preprocess\n",
    "\n",
    "# Source and destination filenames.\n",
    "file_src  = \"/mnt/lts/nfs_fs02/sadow_lab/preserve/stopa/sar_hs/data/S1B_201905_test01S/S1B_201905_test01S.nc\"  # Example file containing single observation.\n",
    "file_dest = \"/mnt/lts/nfs_fs02/sadow_lab/preserve/stopa/sar_hs/data/S1B_201905_test01S/S1B_201905_test01S_processed.h5\"\n",
    "satellite = 0 # 1=S1A, 0=S1B\n",
    "\n",
    "# These variables are expected in the source file.\n",
    "keys = ['timeSAR', 'lonSAR',  'latSAR', 'incidenceAngle', 'sigma0', 'normalizedVariance', 'S', 'cspcRe', 'cspcIm'] # Needed for predictions.\n",
    "   \n",
    "with Dataset(file_src) as fs, h5py.File(file_dest, 'w') as fd:\n",
    "    # Check input file.\n",
    "    src = fs.variables\n",
    "    for k in keys:\n",
    "        if k not in src.keys():\n",
    "            raise IOError(f'Variable {k} not found in input file.')\n",
    "    num_examples = src[keys[0]].shape[0]\n",
    "    print(f'Found {num_examples} events.')\n",
    "\n",
    "    # Get 22 CWAVE features. Concatenate 20 parameters with sigma0 and normVar.\n",
    "    src['S'].set_auto_scale(False) # Some of the NetCDF4 files had some weird scaling.\n",
    "    S = np.array(src['S'][:] * float(src['S'].scale_factor))\n",
    "    cwave = np.hstack([S, src['sigma0'][:].reshape(-1,1), src['normalizedVariance'][:].reshape(-1,1)])\n",
    "    cwave = preprocess.conv_cwave(cwave) # Remove extrema, then standardize with hardcoded mean, vars.\n",
    "    fd.create_dataset('cwave', data=cwave)\n",
    "\n",
    "    # Observation meta data.\n",
    "    latSAR, lonSAR = src['latSAR'][:], src['lonSAR'][:]\n",
    "    latSARcossin = preprocess.conv_position(latSAR) # Computes cos and sin used by NN.\n",
    "    lonSARcossin = preprocess.conv_position(lonSAR)\n",
    "    fd.create_dataset('latlonSAR', data=np.column_stack([latSAR, lonSAR]))\n",
    "    fd.create_dataset('latlonSARcossin', data=np.hstack([latSARcossin, lonSARcossin]))\n",
    "\n",
    "    timeSAR = src['timeSAR'][:]\n",
    "    todSAR = preprocess.conv_time(timeSAR)\n",
    "    fd.create_dataset('timeSAR', data=timeSAR, shape=(timeSAR.shape[0], 1))\n",
    "    fd.create_dataset('todSAR', data=todSAR, shape=(todSAR.shape[0], 1))\n",
    "\n",
    "    incidence = preprocess.conv_incidence(src['incidenceAngle'][:]) # Separates into 2 var.\n",
    "    fd.create_dataset('incidence', data=incidence)\n",
    "\n",
    "    satellite_indicator = np.ones((src['timeSAR'].shape[0], 1), dtype=float) * satellite\n",
    "    fd.create_dataset('satellite', data=satellite_indicator, shape=(satellite_indicator.shape[0], 1))\n",
    "    \n",
    "    # Spectral data.\n",
    "    re = preprocess.conv_real(src['cspcRe'][:])\n",
    "    im = preprocess.conv_imaginary(src['cspcIm'][:])\n",
    "    x = np.stack((re, im), axis=3)\n",
    "    fd.create_dataset('spectrum', data=x)\n",
    "    \n",
    "    # Altimeter features.\n",
    "    #hsALT = src['hsALT'][:]\n",
    "    #fd.create_dataset('hsALT', data=hsALT, shape=(hsALT.shape[0], 1))\n",
    "    #dx = preprocess.conv_dx(src['dx'][:])\n",
    "    #dt = preprocess.conv_dt(src['dt'][:])\n",
    "    #fd.create_dataset('dxdt', data=np.column_stack([dx, dt]))\n"
   ]
  }
 ],
 "metadata": {
  "kernelspec": {
   "display_name": "Python 3",
   "language": "python",
   "name": "python3"
  },
  "language_info": {
   "codemirror_mode": {
    "name": "ipython",
    "version": 3
   },
   "file_extension": ".py",
   "mimetype": "text/x-python",
   "name": "python",
   "nbconvert_exporter": "python",
   "pygments_lexer": "ipython3",
   "version": "3.8.5"
  }
 },
 "nbformat": 4,
 "nbformat_minor": 4
}
