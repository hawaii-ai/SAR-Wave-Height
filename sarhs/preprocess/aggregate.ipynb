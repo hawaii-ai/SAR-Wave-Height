{
 "cells": [
  {
   "cell_type": "code",
   "execution_count": 1,
   "metadata": {},
   "outputs": [],
   "source": [
    "from netCDF4 import Dataset\n",
    "import numpy as np\n",
    "import glob\n",
    "import h5py\n",
    "import pandas as pd\n",
    "from tqdm import tqdm\n",
    "import re\n",
    "import os"
   ]
  },
  {
   "cell_type": "code",
   "execution_count": 37,
   "metadata": {},
   "outputs": [
    {
     "name": "stderr",
     "output_type": "stream",
     "text": [
      "0it [00:00, ?it/s]"
     ]
    },
    {
     "name": "stdout",
     "output_type": "stream",
     "text": [
      "/mnt/lts/nfs_fs02/sadow_lab/personal/quachb/sar_hs/S1A_ALT_coloc201505S.nc\n",
      "timeSAR\n",
      "timeALT\n",
      "lonSAR\n",
      "lonALT\n",
      "latSAR\n",
      "latALT\n",
      "hsALT\n",
      "dx\n",
      "dt\n",
      "nk\n",
      "hsSM\n",
      "incidenceAngle\n",
      "sigma0\n",
      "normalizedVariance\n",
      "S\n",
      "cspcRe\n",
      "cspcIm\n"
     ]
    },
    {
     "name": "stderr",
     "output_type": "stream",
     "text": [
      "1it [00:00,  1.57it/s]"
     ]
    },
    {
     "name": "stdout",
     "output_type": "stream",
     "text": [
      "/mnt/lts/nfs_fs02/sadow_lab/personal/quachb/sar_hs/S1A_ALT_coloc201612S.nc\n"
     ]
    },
    {
     "name": "stderr",
     "output_type": "stream",
     "text": [
      "2it [00:06,  2.13s/it]"
     ]
    },
    {
     "name": "stdout",
     "output_type": "stream",
     "text": [
      "/mnt/lts/nfs_fs02/sadow_lab/personal/quachb/sar_hs/S1A_ALT_coloc201502S.nc\n"
     ]
    },
    {
     "name": "stderr",
     "output_type": "stream",
     "text": [
      "3it [00:06,  1.60s/it]"
     ]
    },
    {
     "name": "stdout",
     "output_type": "stream",
     "text": [
      "/mnt/lts/nfs_fs02/sadow_lab/personal/quachb/sar_hs/S1B_ALT_coloc201702S.nc\n"
     ]
    },
    {
     "name": "stderr",
     "output_type": "stream",
     "text": [
      "4it [00:11,  2.72s/it]"
     ]
    },
    {
     "name": "stdout",
     "output_type": "stream",
     "text": [
      "/mnt/lts/nfs_fs02/sadow_lab/personal/quachb/sar_hs/S1A_ALT_coloc201703S.nc\n"
     ]
    },
    {
     "name": "stderr",
     "output_type": "stream",
     "text": [
      "5it [00:17,  3.51s/it]"
     ]
    },
    {
     "name": "stdout",
     "output_type": "stream",
     "text": [
      "/mnt/lts/nfs_fs02/sadow_lab/personal/quachb/sar_hs/S1A_ALT_coloc201712S.nc\n"
     ]
    },
    {
     "name": "stderr",
     "output_type": "stream",
     "text": [
      "6it [00:21,  3.70s/it]"
     ]
    },
    {
     "name": "stdout",
     "output_type": "stream",
     "text": [
      "/mnt/lts/nfs_fs02/sadow_lab/personal/quachb/sar_hs/S1A_ALT_coloc201802S.nc\n"
     ]
    },
    {
     "name": "stderr",
     "output_type": "stream",
     "text": [
      "7it [00:26,  4.24s/it]"
     ]
    },
    {
     "name": "stdout",
     "output_type": "stream",
     "text": [
      "/mnt/lts/nfs_fs02/sadow_lab/personal/quachb/sar_hs/S1B_ALT_coloc201804S.nc\n"
     ]
    },
    {
     "name": "stderr",
     "output_type": "stream",
     "text": [
      "8it [00:33,  4.98s/it]"
     ]
    },
    {
     "name": "stdout",
     "output_type": "stream",
     "text": [
      "/mnt/lts/nfs_fs02/sadow_lab/personal/quachb/sar_hs/S1B_ALT_coloc201803S.nc\n"
     ]
    },
    {
     "name": "stderr",
     "output_type": "stream",
     "text": [
      "9it [00:42,  6.08s/it]"
     ]
    },
    {
     "name": "stdout",
     "output_type": "stream",
     "text": [
      "/mnt/lts/nfs_fs02/sadow_lab/personal/quachb/sar_hs/S1A_ALT_coloc201805S.nc\n"
     ]
    },
    {
     "name": "stderr",
     "output_type": "stream",
     "text": [
      "10it [00:48,  6.20s/it]"
     ]
    },
    {
     "name": "stdout",
     "output_type": "stream",
     "text": [
      "/mnt/lts/nfs_fs02/sadow_lab/personal/quachb/sar_hs/S1A_ALT_coloc201604S.nc\n"
     ]
    },
    {
     "name": "stderr",
     "output_type": "stream",
     "text": [
      "11it [00:55,  6.27s/it]"
     ]
    },
    {
     "name": "stdout",
     "output_type": "stream",
     "text": [
      "/mnt/lts/nfs_fs02/sadow_lab/personal/quachb/sar_hs/S1A_ALT_coloc201603S.nc\n"
     ]
    },
    {
     "name": "stderr",
     "output_type": "stream",
     "text": [
      "12it [00:59,  5.69s/it]"
     ]
    },
    {
     "name": "stdout",
     "output_type": "stream",
     "text": [
      "/mnt/lts/nfs_fs02/sadow_lab/personal/quachb/sar_hs/S1A_ALT_coloc201702S.nc\n"
     ]
    },
    {
     "name": "stderr",
     "output_type": "stream",
     "text": [
      "13it [01:04,  5.51s/it]"
     ]
    },
    {
     "name": "stdout",
     "output_type": "stream",
     "text": [
      "/mnt/lts/nfs_fs02/sadow_lab/personal/quachb/sar_hs/S1B_ALT_coloc201703S.nc\n"
     ]
    },
    {
     "name": "stderr",
     "output_type": "stream",
     "text": [
      "15it [01:07,  3.34s/it]"
     ]
    },
    {
     "name": "stdout",
     "output_type": "stream",
     "text": [
      "/mnt/lts/nfs_fs02/sadow_lab/personal/quachb/sar_hs/S1A_ALT_coloc201705S.nc\n",
      "/mnt/lts/nfs_fs02/sadow_lab/personal/quachb/sar_hs/S1A_ALT_coloc201503S.nc\n"
     ]
    },
    {
     "name": "stderr",
     "output_type": "stream",
     "text": [
      "16it [01:07,  2.42s/it]"
     ]
    },
    {
     "name": "stdout",
     "output_type": "stream",
     "text": [
      "/mnt/lts/nfs_fs02/sadow_lab/personal/quachb/sar_hs/S1B_ALT_coloc201612S.nc\n"
     ]
    },
    {
     "name": "stderr",
     "output_type": "stream",
     "text": [
      "18it [01:16,  2.95s/it]"
     ]
    },
    {
     "name": "stdout",
     "output_type": "stream",
     "text": [
      "/mnt/lts/nfs_fs02/sadow_lab/personal/quachb/sar_hs/S1A_ALT_coloc201504S.nc\n",
      "/mnt/lts/nfs_fs02/sadow_lab/personal/quachb/sar_hs/S1A_ALT_coloc201602S.nc\n"
     ]
    },
    {
     "name": "stderr",
     "output_type": "stream",
     "text": [
      "19it [01:23,  4.15s/it]"
     ]
    },
    {
     "name": "stdout",
     "output_type": "stream",
     "text": [
      "/mnt/lts/nfs_fs02/sadow_lab/personal/quachb/sar_hs/S1A_ALT_coloc201605S.nc\n"
     ]
    },
    {
     "name": "stderr",
     "output_type": "stream",
     "text": [
      "20it [01:27,  4.35s/it]"
     ]
    },
    {
     "name": "stdout",
     "output_type": "stream",
     "text": [
      "/mnt/lts/nfs_fs02/sadow_lab/personal/quachb/sar_hs/S1A_ALT_coloc201512S.nc\n"
     ]
    },
    {
     "name": "stderr",
     "output_type": "stream",
     "text": [
      "21it [01:32,  4.38s/it]"
     ]
    },
    {
     "name": "stdout",
     "output_type": "stream",
     "text": [
      "/mnt/lts/nfs_fs02/sadow_lab/personal/quachb/sar_hs/S1B_ALT_coloc201802S.nc\n"
     ]
    },
    {
     "name": "stderr",
     "output_type": "stream",
     "text": [
      "22it [01:37,  4.66s/it]"
     ]
    },
    {
     "name": "stdout",
     "output_type": "stream",
     "text": [
      "/mnt/lts/nfs_fs02/sadow_lab/personal/quachb/sar_hs/S1A_ALT_coloc201804S.nc\n"
     ]
    },
    {
     "name": "stderr",
     "output_type": "stream",
     "text": [
      "23it [01:42,  4.72s/it]"
     ]
    },
    {
     "name": "stdout",
     "output_type": "stream",
     "text": [
      "/mnt/lts/nfs_fs02/sadow_lab/personal/quachb/sar_hs/S1A_ALT_coloc201803S.nc\n"
     ]
    },
    {
     "name": "stderr",
     "output_type": "stream",
     "text": [
      "24it [01:50,  5.55s/it]"
     ]
    },
    {
     "name": "stdout",
     "output_type": "stream",
     "text": [
      "/mnt/lts/nfs_fs02/sadow_lab/personal/quachb/sar_hs/S1B_ALT_coloc201805S.nc\n"
     ]
    },
    {
     "name": "stderr",
     "output_type": "stream",
     "text": [
      "25it [01:56,  5.86s/it]"
     ]
    },
    {
     "name": "stdout",
     "output_type": "stream",
     "text": [
      "/mnt/lts/nfs_fs02/sadow_lab/personal/quachb/sar_hs/S1B_ALT_coloc201712S.nc\n"
     ]
    },
    {
     "name": "stderr",
     "output_type": "stream",
     "text": [
      "26it [02:00,  5.37s/it]"
     ]
    },
    {
     "name": "stdout",
     "output_type": "stream",
     "text": [
      "/mnt/lts/nfs_fs02/sadow_lab/personal/quachb/sar_hs/S1A_ALT_coloc201606S.nc\n"
     ]
    },
    {
     "name": "stderr",
     "output_type": "stream",
     "text": [
      "27it [02:04,  4.72s/it]"
     ]
    },
    {
     "name": "stdout",
     "output_type": "stream",
     "text": [
      "/mnt/lts/nfs_fs02/sadow_lab/personal/quachb/sar_hs/S1A_ALT_coloc201511S.nc\n"
     ]
    },
    {
     "name": "stderr",
     "output_type": "stream",
     "text": [
      "28it [02:07,  4.23s/it]"
     ]
    },
    {
     "name": "stdout",
     "output_type": "stream",
     "text": [
      "/mnt/lts/nfs_fs02/sadow_lab/personal/quachb/sar_hs/S1B_ALT_coloc201607S.nc\n"
     ]
    },
    {
     "name": "stderr",
     "output_type": "stream",
     "text": [
      "29it [02:10,  4.00s/it]"
     ]
    },
    {
     "name": "stdout",
     "output_type": "stream",
     "text": [
      "/mnt/lts/nfs_fs02/sadow_lab/personal/quachb/sar_hs/S1A_ALT_coloc201601S.nc\n"
     ]
    },
    {
     "name": "stderr",
     "output_type": "stream",
     "text": [
      "30it [02:14,  3.86s/it]"
     ]
    },
    {
     "name": "stdout",
     "output_type": "stream",
     "text": [
      "/mnt/lts/nfs_fs02/sadow_lab/personal/quachb/sar_hs/S1B_ALT_coloc201609S.nc\n"
     ]
    },
    {
     "name": "stderr",
     "output_type": "stream",
     "text": [
      "31it [02:18,  4.04s/it]"
     ]
    },
    {
     "name": "stdout",
     "output_type": "stream",
     "text": [
      "/mnt/lts/nfs_fs02/sadow_lab/personal/quachb/sar_hs/S1A_ALT_coloc201608S.nc\n"
     ]
    },
    {
     "name": "stderr",
     "output_type": "stream",
     "text": [
      "32it [02:24,  4.60s/it]"
     ]
    },
    {
     "name": "stdout",
     "output_type": "stream",
     "text": [
      "/mnt/lts/nfs_fs02/sadow_lab/personal/quachb/sar_hs/S1B_ALT_coloc201806S.nc\n"
     ]
    },
    {
     "name": "stderr",
     "output_type": "stream",
     "text": [
      "33it [02:27,  4.07s/it]"
     ]
    },
    {
     "name": "stdout",
     "output_type": "stream",
     "text": [
      "/mnt/lts/nfs_fs02/sadow_lab/personal/quachb/sar_hs/S1B_ALT_coloc201801S.nc\n"
     ]
    },
    {
     "name": "stderr",
     "output_type": "stream",
     "text": [
      "34it [02:33,  4.69s/it]"
     ]
    },
    {
     "name": "stdout",
     "output_type": "stream",
     "text": [
      "/mnt/lts/nfs_fs02/sadow_lab/personal/quachb/sar_hs/S1A_ALT_coloc201807S.nc\n"
     ]
    },
    {
     "name": "stderr",
     "output_type": "stream",
     "text": [
      "35it [02:35,  4.00s/it]"
     ]
    },
    {
     "name": "stdout",
     "output_type": "stream",
     "text": [
      "/mnt/lts/nfs_fs02/sadow_lab/personal/quachb/sar_hs/S1A_ALT_coloc201710S.nc\n"
     ]
    },
    {
     "name": "stderr",
     "output_type": "stream",
     "text": [
      "36it [02:40,  4.04s/it]"
     ]
    },
    {
     "name": "stdout",
     "output_type": "stream",
     "text": [
      "/mnt/lts/nfs_fs02/sadow_lab/personal/quachb/sar_hs/S1B_ALT_coloc201711S.nc\n"
     ]
    },
    {
     "name": "stderr",
     "output_type": "stream",
     "text": [
      "37it [02:45,  4.52s/it]"
     ]
    },
    {
     "name": "stdout",
     "output_type": "stream",
     "text": [
      "/mnt/lts/nfs_fs02/sadow_lab/personal/quachb/sar_hs/S1A_ALT_coloc201706S.nc\n"
     ]
    },
    {
     "name": "stderr",
     "output_type": "stream",
     "text": [
      "38it [02:49,  4.27s/it]"
     ]
    },
    {
     "name": "stdout",
     "output_type": "stream",
     "text": [
      "/mnt/lts/nfs_fs02/sadow_lab/personal/quachb/sar_hs/S1A_ALT_coloc201701S.nc\n"
     ]
    },
    {
     "name": "stderr",
     "output_type": "stream",
     "text": [
      "39it [02:55,  4.72s/it]"
     ]
    },
    {
     "name": "stdout",
     "output_type": "stream",
     "text": [
      "/mnt/lts/nfs_fs02/sadow_lab/personal/quachb/sar_hs/S1B_ALT_coloc201707S.nc\n"
     ]
    },
    {
     "name": "stderr",
     "output_type": "stream",
     "text": [
      "40it [03:02,  5.56s/it]"
     ]
    },
    {
     "name": "stdout",
     "output_type": "stream",
     "text": [
      "/mnt/lts/nfs_fs02/sadow_lab/personal/quachb/sar_hs/S1B_ALT_coloc201709S.nc\n"
     ]
    },
    {
     "name": "stderr",
     "output_type": "stream",
     "text": [
      "41it [03:08,  5.73s/it]"
     ]
    },
    {
     "name": "stdout",
     "output_type": "stream",
     "text": [
      "/mnt/lts/nfs_fs02/sadow_lab/personal/quachb/sar_hs/S1A_ALT_coloc201708S.nc\n"
     ]
    },
    {
     "name": "stderr",
     "output_type": "stream",
     "text": [
      "42it [03:14,  5.69s/it]"
     ]
    },
    {
     "name": "stdout",
     "output_type": "stream",
     "text": [
      "/mnt/lts/nfs_fs02/sadow_lab/personal/quachb/sar_hs/S1A_ALT_coloc201509S.nc\n"
     ]
    },
    {
     "name": "stderr",
     "output_type": "stream",
     "text": [
      "43it [03:18,  5.09s/it]"
     ]
    },
    {
     "name": "stdout",
     "output_type": "stream",
     "text": [
      "/mnt/lts/nfs_fs02/sadow_lab/personal/quachb/sar_hs/S1A_ALT_coloc201507S.nc\n"
     ]
    },
    {
     "name": "stderr",
     "output_type": "stream",
     "text": [
      "44it [03:20,  4.19s/it]"
     ]
    },
    {
     "name": "stdout",
     "output_type": "stream",
     "text": [
      "/mnt/lts/nfs_fs02/sadow_lab/personal/quachb/sar_hs/S1A_ALT_coloc201610S.nc\n"
     ]
    },
    {
     "name": "stderr",
     "output_type": "stream",
     "text": [
      "45it [03:28,  5.42s/it]"
     ]
    },
    {
     "name": "stdout",
     "output_type": "stream",
     "text": [
      "/mnt/lts/nfs_fs02/sadow_lab/personal/quachb/sar_hs/S1B_ALT_coloc201611S.nc\n"
     ]
    },
    {
     "name": "stderr",
     "output_type": "stream",
     "text": [
      "46it [03:35,  5.85s/it]"
     ]
    },
    {
     "name": "stdout",
     "output_type": "stream",
     "text": [
      "/mnt/lts/nfs_fs02/sadow_lab/personal/quachb/sar_hs/S1B_ALT_coloc201710S.nc\n"
     ]
    },
    {
     "name": "stderr",
     "output_type": "stream",
     "text": [
      "47it [03:39,  5.28s/it]"
     ]
    },
    {
     "name": "stdout",
     "output_type": "stream",
     "text": [
      "/mnt/lts/nfs_fs02/sadow_lab/personal/quachb/sar_hs/S1A_ALT_coloc201711S.nc\n"
     ]
    },
    {
     "name": "stderr",
     "output_type": "stream",
     "text": [
      "48it [03:44,  5.27s/it]"
     ]
    },
    {
     "name": "stdout",
     "output_type": "stream",
     "text": [
      "/mnt/lts/nfs_fs02/sadow_lab/personal/quachb/sar_hs/S1A_ALT_coloc201806S.nc\n"
     ]
    },
    {
     "name": "stderr",
     "output_type": "stream",
     "text": [
      "49it [03:47,  4.47s/it]"
     ]
    },
    {
     "name": "stdout",
     "output_type": "stream",
     "text": [
      "/mnt/lts/nfs_fs02/sadow_lab/personal/quachb/sar_hs/S1A_ALT_coloc201801S.nc\n"
     ]
    },
    {
     "name": "stderr",
     "output_type": "stream",
     "text": [
      "50it [03:52,  4.69s/it]"
     ]
    },
    {
     "name": "stdout",
     "output_type": "stream",
     "text": [
      "/mnt/lts/nfs_fs02/sadow_lab/personal/quachb/sar_hs/S1B_ALT_coloc201807S.nc\n"
     ]
    },
    {
     "name": "stderr",
     "output_type": "stream",
     "text": [
      "51it [03:55,  4.11s/it]"
     ]
    },
    {
     "name": "stdout",
     "output_type": "stream",
     "text": [
      "/mnt/lts/nfs_fs02/sadow_lab/personal/quachb/sar_hs/S1A_ALT_coloc201609S.nc\n"
     ]
    },
    {
     "name": "stderr",
     "output_type": "stream",
     "text": [
      "52it [04:00,  4.46s/it]"
     ]
    },
    {
     "name": "stdout",
     "output_type": "stream",
     "text": [
      "/mnt/lts/nfs_fs02/sadow_lab/personal/quachb/sar_hs/S1B_ALT_coloc201608S.nc\n"
     ]
    },
    {
     "name": "stderr",
     "output_type": "stream",
     "text": [
      "53it [04:06,  4.86s/it]"
     ]
    },
    {
     "name": "stdout",
     "output_type": "stream",
     "text": [
      "/mnt/lts/nfs_fs02/sadow_lab/personal/quachb/sar_hs/S1B_ALT_coloc201606S.nc\n"
     ]
    },
    {
     "name": "stderr",
     "output_type": "stream",
     "text": [
      "54it [04:06,  3.54s/it]"
     ]
    },
    {
     "name": "stdout",
     "output_type": "stream",
     "text": [
      "/mnt/lts/nfs_fs02/sadow_lab/personal/quachb/sar_hs/S1A_ALT_coloc201607S.nc\n"
     ]
    },
    {
     "name": "stderr",
     "output_type": "stream",
     "text": [
      "55it [04:11,  3.94s/it]"
     ]
    },
    {
     "name": "stdout",
     "output_type": "stream",
     "text": [
      "/mnt/lts/nfs_fs02/sadow_lab/personal/quachb/sar_hs/S1A_ALT_coloc201510S.nc\n"
     ]
    },
    {
     "name": "stderr",
     "output_type": "stream",
     "text": [
      "57it [04:15,  2.76s/it]"
     ]
    },
    {
     "name": "stdout",
     "output_type": "stream",
     "text": [
      "/mnt/lts/nfs_fs02/sadow_lab/personal/quachb/sar_hs/S1A_ALT_coloc201501S.nc\n",
      "/mnt/lts/nfs_fs02/sadow_lab/personal/quachb/sar_hs/S1B_ALT_coloc201610S.nc\n"
     ]
    },
    {
     "name": "stderr",
     "output_type": "stream",
     "text": [
      "58it [04:22,  4.11s/it]"
     ]
    },
    {
     "name": "stdout",
     "output_type": "stream",
     "text": [
      "/mnt/lts/nfs_fs02/sadow_lab/personal/quachb/sar_hs/S1A_ALT_coloc201506S.nc\n"
     ]
    },
    {
     "name": "stderr",
     "output_type": "stream",
     "text": [
      "59it [04:24,  3.33s/it]"
     ]
    },
    {
     "name": "stdout",
     "output_type": "stream",
     "text": [
      "/mnt/lts/nfs_fs02/sadow_lab/personal/quachb/sar_hs/S1A_ALT_coloc201611S.nc\n"
     ]
    },
    {
     "name": "stderr",
     "output_type": "stream",
     "text": [
      "60it [04:32,  4.88s/it]"
     ]
    },
    {
     "name": "stdout",
     "output_type": "stream",
     "text": [
      "/mnt/lts/nfs_fs02/sadow_lab/personal/quachb/sar_hs/S1A_ALT_coloc201508S.nc\n"
     ]
    },
    {
     "name": "stderr",
     "output_type": "stream",
     "text": [
      "61it [04:36,  4.44s/it]"
     ]
    },
    {
     "name": "stdout",
     "output_type": "stream",
     "text": [
      "/mnt/lts/nfs_fs02/sadow_lab/personal/quachb/sar_hs/S1A_ALT_coloc201709S.nc\n"
     ]
    },
    {
     "name": "stderr",
     "output_type": "stream",
     "text": [
      "62it [04:40,  4.52s/it]"
     ]
    },
    {
     "name": "stdout",
     "output_type": "stream",
     "text": [
      "/mnt/lts/nfs_fs02/sadow_lab/personal/quachb/sar_hs/S1B_ALT_coloc201708S.nc\n"
     ]
    },
    {
     "name": "stderr",
     "output_type": "stream",
     "text": [
      "63it [04:46,  5.01s/it]"
     ]
    },
    {
     "name": "stdout",
     "output_type": "stream",
     "text": [
      "/mnt/lts/nfs_fs02/sadow_lab/personal/quachb/sar_hs/S1B_ALT_coloc201701S.nc\n"
     ]
    },
    {
     "name": "stderr",
     "output_type": "stream",
     "text": [
      "64it [04:53,  5.36s/it]"
     ]
    },
    {
     "name": "stdout",
     "output_type": "stream",
     "text": [
      "/mnt/lts/nfs_fs02/sadow_lab/personal/quachb/sar_hs/S1A_ALT_coloc201707S.nc\n"
     ]
    },
    {
     "name": "stderr",
     "output_type": "stream",
     "text": [
      "65it [05:00,  4.63s/it]"
     ]
    },
    {
     "name": "stdout",
     "output_type": "stream",
     "text": [
      "Done\n"
     ]
    },
    {
     "name": "stderr",
     "output_type": "stream",
     "text": [
      "\n"
     ]
    }
   ],
   "source": [
    "# Aggregate netCDF4 files into large h5 file.\n",
    "files_src = glob.glob(\"/mnt/lts/nfs_fs02/sadow_lab/personal/quachb/sar_hs/*.nc\")\n",
    "files_src = [f for f in files_src if 'ALT' in f]\n",
    "#file_dest =  \"/mnt/tmp/psadow/sar/aggregated_ALT.h5\"\n",
    "file_dest =  \"/mnt/lts/nfs_fs02/sadow_lab/preserve/stopa/sar_hs/data/alt/aggregated_ALT.h5\"\n",
    "\n",
    "keys = ['timeSAR', 'timeALT', 'lonSAR', 'lonALT', 'latSAR', 'latALT', 'hsALT', 'dx', 'dt', 'nk', 'hsSM', 'incidenceAngle', 'sigma0', 'normalizedVariance', 'S']\n",
    "keys += ['cspcRe', 'cspcIm']\n",
    "\n",
    "def parse_filename(filename):\n",
    "    \"\"\"\n",
    "    Grab some meta data from filename.\n",
    "    \"\"\"\n",
    "    filename = os.path.basename(filename)\n",
    "    platform, _alt, date, _ext = re.split('_|\\.', filename)\n",
    "    assert _alt == 'ALT', _alt\n",
    "    assert _ext == 'nc', _ext\n",
    "    satellite = int(platform[2] == 'A') # Encodes type A as 1 and B as 0\n",
    "    year = int(date[5:9])\n",
    "    month = int(date[9:11])\n",
    "    return {'satellite':satellite, 'year':year, 'month':month}\n",
    "\n",
    "def process(x, key):\n",
    "    \"\"\"\n",
    "    Process a netcdf variable data.variables[key]\n",
    "    \"\"\"\n",
    "    if key == 'S':\n",
    "        x.set_auto_scale(False)\n",
    "        x = np.array(x[:] * float(x.scale_factor))\n",
    "    return x\n",
    "\n",
    "def aggregate(files_src, file_dest, keys=None):\n",
    "    \"\"\"\n",
    "    Aggregate list of netcdf files into single hdf5.\n",
    "    Args:\n",
    "    files_src: list of netcdf filenames\n",
    "    file_dest: filename of h5\n",
    "    keys: If specified, only extract these fields.\n",
    "    \"\"\"\n",
    "    \n",
    "    for i, filename in tqdm(enumerate(files_src)):\n",
    "        # Add file of data to large hdf5.\n",
    "        #print(filename)\n",
    "        data = Dataset(filename)\n",
    "        meta = parse_filename(filename)        \n",
    "        \n",
    "        if i == 0:\n",
    "            if keys is None:\n",
    "                # Grab keys from first file.\n",
    "                keys = data.variables.keys()\n",
    "            with h5py.File(file_dest, 'w') as fdest:\n",
    "                for key in keys:\n",
    "                    print(key)\n",
    "                    x = process(data.variables[key], key)\n",
    "                    maxshape = (None,) if len(x.shape)==1 else (None, ) + x.shape[1:]\n",
    "                    fdest.create_dataset(key, data=x, maxshape=maxshape)\n",
    "                for key in meta:\n",
    "                    temp = np.ones((data.variables[keys[0]].shape[0], ), dtype=int) * meta[key] \n",
    "                    fdest.create_dataset(key, data=temp, maxshape = (None,))\n",
    "        else:\n",
    "            with h5py.File(file_dest, 'a') as fdest:\n",
    "                for key in keys:\n",
    "                    num_prev = fdest[key].shape[0]\n",
    "                    num_add = data.variables[key].shape[0]\n",
    "                    fdest[key].resize(num_prev + num_add, axis = 0)\n",
    "                    fdest[key][-num_add:] = process(data.variables[key], key)\n",
    "                for key in meta:\n",
    "                    num_prev = fdest[key].shape[0]\n",
    "                    fdest[key].resize(num_prev + num_add, axis = 0)\n",
    "                    fdest[key][-num_add:] = np.ones((data.variables[keys[0]].shape[0], ), dtype=int) * meta[key] \n",
    "\n",
    "aggregate(files_src, file_dest, keys=keys)\n",
    "print(\"Done\")"
   ]
  }
 ],
 "metadata": {
  "kernelspec": {
   "display_name": "Python 3",
   "language": "python",
   "name": "python3"
  },
  "language_info": {
   "codemirror_mode": {
    "name": "ipython",
    "version": 3
   },
   "file_extension": ".py",
   "mimetype": "text/x-python",
   "name": "python",
   "nbconvert_exporter": "python",
   "pygments_lexer": "ipython3",
   "version": "3.8.3"
  }
 },
 "nbformat": 4,
 "nbformat_minor": 4
}
